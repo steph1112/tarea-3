{
  "cells": [
    {
      "cell_type": "markdown",
      "metadata": {
        "id": "9mh6Y9zI5Dw3"
      },
      "source": [
        "<img src=\"https://i.imgur.com/6U6q5jQ.png\"/>\n",
        "\n",
        "\n",
        "\n",
        "\n",
        "\n",
        "<a target=\"_blank\" href=\"https://colab.research.google.com/github/SocialAnalytics-StrategicIntelligence/introGraph/blob/main/index.ipynb\">\n",
        "  <img src=\"https://colab.research.google.com/assets/colab-badge.svg\" alt=\"Open In Colab\"/>\n",
        "</a>\n",
        "\n",
        "# Graphs\n",
        "\n",
        "Let me show you a graph (from [wikipedia](https://en.wikipedia.org/wiki/Graph_(discrete_mathematics))):\n",
        "\n",
        "<img src=\"https://upload.wikimedia.org/wikipedia/commons/thumb/5/5b/6n-graf.svg/440px-6n-graf.svg.png\"/>\n",
        "\n",
        "As you can see, it is simply a representation of two sets:\n",
        "\n",
        "1. A set of **vertices** or **nodes**. In the image above you see the nodes _1_, _2_, _3_, _4_, _5_, and _6_.\n",
        "2. A set of **edges** or **links**. In the image above, the links are connecting pairs of nodes.\n",
        "\n",
        "Altogether, a _graph_ reveals some _relationship_ among the _nodes_. The graph structure will allow us to explore and understand that relationship.\n",
        "\n",
        "## Creating Graphs\n",
        "\n",
        "The graph above can be represented computationally in Python using **networkx**:"
      ]
    },
    {
      "cell_type": "code",
      "execution_count": null,
      "metadata": {
        "id": "h2aUzsig5Dw9"
      },
      "outputs": [],
      "source": [
        "import networkx as nx\n",
        "\n",
        "# create graph\n",
        "G = nx.Graph()\n",
        "\n",
        "# create nodes and edges\n",
        "G.add_edges_from([(1, 2), (1, 5),(2,5),(2,3),(3,4),(4,5),(4,6)])"
      ]
    },
    {
      "cell_type": "markdown",
      "metadata": {
        "id": "Bezcn0_W5Dw-"
      },
      "source": [
        "## Basic Elements"
      ]
    },
    {
      "cell_type": "markdown",
      "metadata": {
        "id": "_N7C-gzr5Dw_"
      },
      "source": [
        "**G** is the graph:"
      ]
    },
    {
      "cell_type": "code",
      "execution_count": null,
      "metadata": {
        "id": "7910k_HH5Dw_",
        "outputId": "2e1f74a7-e8bb-4417-9723-8abf25b391c2"
      },
      "outputs": [
        {
          "data": {
            "text/plain": [
              "<networkx.classes.graph.Graph at 0x103cc1a10>"
            ]
          },
          "execution_count": 2,
          "metadata": {},
          "output_type": "execute_result"
        }
      ],
      "source": [
        "#you don't see much...just what it is:\n",
        "G"
      ]
    },
    {
      "cell_type": "code",
      "execution_count": null,
      "metadata": {
        "id": "VLkFabfi5DxA",
        "outputId": "08b711c4-0b7b-4db8-9229-58e899e0d13d"
      },
      "outputs": [
        {
          "data": {
            "text/plain": [
              "NodeDataView({1: {}, 2: {}, 5: {}, 3: {}, 4: {}, 6: {}})"
            ]
          },
          "execution_count": 3,
          "metadata": {},
          "output_type": "execute_result"
        }
      ],
      "source": [
        "# You see nodes\n",
        "G.nodes.data()"
      ]
    },
    {
      "cell_type": "code",
      "execution_count": null,
      "metadata": {
        "id": "00A6QunX5DxB",
        "outputId": "e57bdc23-e63c-4969-cedc-be7b24b313f7"
      },
      "outputs": [
        {
          "data": {
            "text/plain": [
              "NodeView((1, 2, 5, 3, 4, 6))"
            ]
          },
          "execution_count": 4,
          "metadata": {},
          "output_type": "execute_result"
        }
      ],
      "source": [
        "# You see node ids\n",
        "G.nodes()"
      ]
    },
    {
      "cell_type": "code",
      "execution_count": null,
      "metadata": {
        "id": "cWcB9V1_5DxB",
        "outputId": "0bff5f50-96ce-493f-f539-93ec879176be"
      },
      "outputs": [
        {
          "data": {
            "text/plain": [
              "ValuesView(NodeView((1, 2, 5, 3, 4, 6)))"
            ]
          },
          "execution_count": 5,
          "metadata": {},
          "output_type": "execute_result"
        }
      ],
      "source": [
        "# similar\n",
        "G.nodes().values()"
      ]
    },
    {
      "cell_type": "code",
      "execution_count": null,
      "metadata": {
        "id": "JCftKunW5DxC",
        "outputId": "5878ccd6-b50b-4f6f-caba-615f19d195dd"
      },
      "outputs": [
        {
          "data": {
            "text/plain": [
              "EdgeView([(1, 2), (1, 5), (2, 5), (2, 3), (5, 4), (3, 4), (4, 6)])"
            ]
          },
          "execution_count": 6,
          "metadata": {},
          "output_type": "execute_result"
        }
      ],
      "source": [
        "# You see edges\n",
        "G.edges()"
      ]
    },
    {
      "cell_type": "code",
      "execution_count": null,
      "metadata": {
        "id": "7odWjnZb5DxC",
        "outputId": "db9b5f86-a55a-4412-fa55-3a10d6c0c6c2"
      },
      "outputs": [
        {
          "data": {
            "text/plain": [
              "ItemsView(EdgeView([(1, 2), (1, 5), (2, 5), (2, 3), (5, 4), (3, 4), (4, 6)]))"
            ]
          },
          "execution_count": 7,
          "metadata": {},
          "output_type": "execute_result"
        }
      ],
      "source": [
        "# You see edges items\n",
        "G.edges().items()"
      ]
    },
    {
      "cell_type": "markdown",
      "metadata": {
        "id": "_Uw1bAWi5DxD"
      },
      "source": [
        "## Drawing"
      ]
    },
    {
      "cell_type": "markdown",
      "metadata": {
        "id": "OLTnl7iy5DxD"
      },
      "source": [
        "As you can see, the graph is created by adding pairs of nodes. Once you complete that stage, you can draw the graph:"
      ]
    },
    {
      "cell_type": "code",
      "execution_count": null,
      "metadata": {
        "id": "eiWpZzgE5DxD",
        "outputId": "5cd35acf-7349-4476-a3d2-a3f7ee0d21d0"
      },
      "outputs": [
        {
          "data": {
            "image/png": "[encoded data removed]",
            "text/plain": [
              "<Figure size 640x480 with 1 Axes>"
            ]
          },
          "metadata": {},
          "output_type": "display_data"
        }
      ],
      "source": [
        "# draw\n",
        "nx.draw(G=G,\n",
        "        with_labels=True,\n",
        "        node_color='yellow',\n",
        "        edgecolors='black')"
      ]
    },
    {
      "cell_type": "markdown",
      "metadata": {
        "id": "abXr_jDJ5DxE"
      },
      "source": [
        "Notice that the position of the nodes will vary every time you re draw the graph. In fact, drawing a graph can become a challenge by itself when we need to find information via visualization.\n",
        "\n",
        "\n",
        "## Interaction with Pyvis\n",
        "\n",
        "Pyvis uses color, size, label and title attributes."
      ]
    },
    {
      "cell_type": "code",
      "execution_count": null,
      "metadata": {
        "id": "uNf49SYM5DxE",
        "outputId": "3926de8e-2bc6-4adb-ec54-778380ca58cd"
      },
      "outputs": [
        {
          "data": {
            "text/plain": [
              "{1: '1', 2: '2', 5: '5', 3: '3', 4: '4', 6: '6'}"
            ]
          },
          "execution_count": 9,
          "metadata": {},
          "output_type": "execute_result"
        }
      ],
      "source": [
        "# dict of labels\n",
        "labels={i:str(i) for i in G.nodes()}\n",
        "labels # string as label"
      ]
    },
    {
      "cell_type": "code",
      "execution_count": null,
      "metadata": {
        "id": "O2kG4u7U5DxE",
        "outputId": "84c49fa0-58de-4bce-bc10-47d32d082397"
      },
      "outputs": [
        {
          "data": {
            "text/plain": [
              "NodeDataView({1: {'label': '1', 'color': 'red'}, 2: {'label': '2', 'color': 'red'}, 5: {'label': '5', 'color': 'red'}, 3: {'label': '3', 'color': 'red'}, 4: {'label': '4', 'color': 'red'}, 6: {'label': '6', 'color': 'red'}})"
            ]
          },
          "execution_count": 10,
          "metadata": {},
          "output_type": "execute_result"
        }
      ],
      "source": [
        "nx.set_node_attributes(G,labels,'label') # values according to id\n",
        "nx.set_node_attributes(G,'red','color') # for all\n",
        "G.nodes.data()"
      ]
    },
    {
      "cell_type": "code",
      "execution_count": null,
      "metadata": {
        "id": "pSNz--Xf5DxE",
        "outputId": "665a312d-5993-45f6-a899-67b6c1ec0b5f"
      },
      "outputs": [
        {
          "data": {
            "text/html": [
              "\n",
              "        <iframe\n",
              "            width=\"500px\"\n",
              "            height=\"500px\"\n",
              "            src=\"Gvis.html\"\n",
              "            frameborder=\"0\"\n",
              "            allowfullscreen\n",
              "            \n",
              "        ></iframe>\n",
              "        "
            ],
            "text/plain": [
              "<IPython.lib.display.IFrame at 0x10694de10>"
            ]
          },
          "execution_count": 11,
          "metadata": {},
          "output_type": "execute_result"
        }
      ],
      "source": [
        "from pyvis.network import Network\n",
        "\n",
        "Gvis = Network('500px', '500px',notebook=True,cdn_resources='remote')\n",
        "Gvis.from_nx(G.copy()) # create a copy!\n",
        "Gvis.show('Gvis.html')"
      ]
    },
    {
      "cell_type": "markdown",
      "metadata": {
        "id": "QmJZEK8E5DxF"
      },
      "source": [
        "\n",
        "\n",
        "### Edge directionality\n",
        "\n",
        "The graph we created and drew represented an **undirected** graph, that is, the relationships between a pair of nodes are **symmetric**: the relationships can not represent direction because they are _inherently mutual_ between the nodes. For example, the relationship *to be a neighbor of* is symmetric.\n",
        "\n",
        "The following graph is **directed** (also from wikipedia):\n",
        "\n",
        "<img src=\"https://upload.wikimedia.org/wikipedia/commons/thumb/2/23/Directed_graph_no_background.svg/340px-Directed_graph_no_background.svg.png\"/>\n"
      ]
    },
    {
      "cell_type": "markdown",
      "metadata": {
        "id": "4oqoZbkC5DxF"
      },
      "source": [
        "You can create this directed graph this way:"
      ]
    },
    {
      "cell_type": "code",
      "execution_count": null,
      "metadata": {
        "id": "f3kXbTV_5DxF",
        "outputId": "a48a8aae-ef85-48a3-e491-a134e0b47a58"
      },
      "outputs": [
        {
          "data": {
            "image/png": "[encoded data removed]",
            "text/plain": [
              "<Figure size 640x480 with 1 Axes>"
            ]
          },
          "metadata": {},
          "output_type": "display_data"
        }
      ],
      "source": [
        "# create graph\n",
        "dG = nx.DiGraph()\n",
        "\n",
        "# create nodes and edges\n",
        "dG.add_edges_from([(1, 2), (1, 3),(3,2),(3,4),(4,3)])\n",
        "\n",
        "# drawing\n",
        "nx.draw(dG,with_labels=True,node_color='white',edgecolors='black')"
      ]
    },
    {
      "cell_type": "markdown",
      "metadata": {
        "id": "TYA1Bs5M5DxF"
      },
      "source": [
        "Directed links are also called **arcs**. Notice the _DiGraph_ created represents an **asymmetric** relationship: the relationship a node has with another node does not need to be mutual, but could be (see nodes _3_ and _4_). If the arcs represent **cares for someone**, it shows that the feeling is not reciprocal for most cases in this graph. If a relationship is not mutual, and can only be in one direction, it is called **anti symmetric**.\n",
        "\n",
        "## Attributes\n",
        "\n",
        "Nodes can have attributes:"
      ]
    },
    {
      "cell_type": "code",
      "execution_count": null,
      "metadata": {
        "id": "9i_ncP525DxF"
      },
      "outputs": [],
      "source": [
        "# adding attributes\n",
        "dG.nodes[1][\"sex\"]='male'\n",
        "dG.nodes[2][\"sex\"]='male'\n",
        "dG.nodes[3][\"sex\"]='female'\n",
        "dG.nodes[4][\"sex\"]='female'"
      ]
    },
    {
      "cell_type": "code",
      "execution_count": null,
      "metadata": {
        "id": "BsrZIM7T5DxF",
        "outputId": "46db8cb5-0740-48ef-90ed-ae21a954e7be"
      },
      "outputs": [
        {
          "data": {
            "text/plain": [
              "{1: 'male', 2: 'male', 3: 'female', 4: 'female'}"
            ]
          },
          "execution_count": 14,
          "metadata": {},
          "output_type": "execute_result"
        }
      ],
      "source": [
        "# seeing attributes\n",
        "nx.get_node_attributes(dG, \"sex\")"
      ]
    },
    {
      "cell_type": "markdown",
      "metadata": {
        "id": "ZSGczocO5DxF"
      },
      "source": [
        "Set the color of the node based on sex:"
      ]
    },
    {
      "cell_type": "code",
      "execution_count": null,
      "metadata": {
        "id": "bYBMeAbh5DxG",
        "outputId": "51bd9e89-b31c-4cc1-d5f0-7231875556da"
      },
      "outputs": [
        {
          "data": {
            "text/plain": [
              "dict_items([(1, 'male'), (2, 'male'), (3, 'female'), (4, 'female')])"
            ]
          },
          "execution_count": 15,
          "metadata": {},
          "output_type": "execute_result"
        }
      ],
      "source": [
        "#if\n",
        "nx.get_node_attributes(dG, \"sex\").items()"
      ]
    },
    {
      "cell_type": "code",
      "execution_count": null,
      "metadata": {
        "id": "oM85Loul5DxG",
        "outputId": "329ce23b-156c-4f4c-909a-3be8631e5be5"
      },
      "outputs": [
        {
          "data": {
            "text/plain": [
              "{1: 'blue', 2: 'blue', 3: 'red', 4: 'red'}"
            ]
          },
          "execution_count": 16,
          "metadata": {},
          "output_type": "execute_result"
        }
      ],
      "source": [
        "# then\n",
        "{i:'red' if v=='female' else 'blue' for i,v in nx.get_node_attributes(dG, \"sex\").items()}"
      ]
    },
    {
      "cell_type": "code",
      "execution_count": null,
      "metadata": {
        "id": "LHjNXmy25DxG",
        "outputId": "be287268-4095-4f11-a1d9-5e6423bcb1b1"
      },
      "outputs": [
        {
          "data": {
            "text/plain": [
              "NodeDataView({1: {'sex': 'male', 'color': 'blue'}, 2: {'sex': 'male', 'color': 'blue'}, 3: {'sex': 'female', 'color': 'red'}, 4: {'sex': 'female', 'color': 'red'}})"
            ]
          },
          "execution_count": 17,
          "metadata": {},
          "output_type": "execute_result"
        }
      ],
      "source": [
        "# so...\n",
        "colors={i:'red' if v=='female' else 'blue' for i,v in nx.get_node_attributes(dG, \"sex\").items()}\n",
        "\n",
        "# set color\n",
        "nx.set_node_attributes(dG, colors, \"color\")\n",
        "dG.nodes.data()"
      ]
    },
    {
      "cell_type": "code",
      "execution_count": null,
      "metadata": {
        "id": "cFLm5Wfs5DxG",
        "outputId": "573c31bc-ac96-4920-a7aa-8254be7b7b92"
      },
      "outputs": [
        {
          "data": {
            "text/plain": [
              "dict_values(['blue', 'blue', 'red', 'red'])"
            ]
          },
          "execution_count": 18,
          "metadata": {},
          "output_type": "execute_result"
        }
      ],
      "source": [
        "# since\n",
        "nx.get_node_attributes(dG, \"color\").values()"
      ]
    },
    {
      "cell_type": "markdown",
      "metadata": {
        "id": "4VOdS5CS5DxG"
      },
      "source": [
        "Attributes can serve for some computational purposes, but also help to visually find structures."
      ]
    },
    {
      "cell_type": "code",
      "execution_count": null,
      "metadata": {
        "id": "kMrxZnMF5DxG",
        "outputId": "d51f0335-82d8-4422-8796-aeea294bcb84"
      },
      "outputs": [
        {
          "data": {
            "image/png": "[encoded data removed]",
            "text/plain": [
              "<Figure size 640x480 with 1 Axes>"
            ]
          },
          "metadata": {},
          "output_type": "display_data"
        }
      ],
      "source": [
        "# using node attributes\n",
        "\n",
        "nx.draw(dG,\n",
        "        with_labels=True,\n",
        "        node_color=nx.get_node_attributes(dG, \"color\").values())"
      ]
    },
    {
      "cell_type": "markdown",
      "metadata": {
        "id": "eG3rN5qY5DxH"
      },
      "source": [
        "Of course, edges can have attributes too:"
      ]
    },
    {
      "cell_type": "code",
      "execution_count": null,
      "metadata": {
        "id": "saMyjpNr5DxH"
      },
      "outputs": [],
      "source": [
        "dG.edges[(1, 2)]['weight']=1\n",
        "dG.edges[(1, 3)]['weight']=3\n",
        "dG.edges[(3, 2)]['weight']=5\n",
        "dG.edges[(3, 4)]['weight']=10\n",
        "dG.edges[(4, 3)]['weight']=0.5"
      ]
    },
    {
      "cell_type": "code",
      "execution_count": null,
      "metadata": {
        "id": "OROjS4qt5DxH",
        "outputId": "89fae431-e7b9-4d51-8101-b2c2f394807a"
      },
      "outputs": [
        {
          "data": {
            "text/plain": [
              "OutEdgeDataView([(1, 2, {'weight': 1}), (1, 3, {'weight': 3}), (3, 2, {'weight': 5}), (3, 4, {'weight': 10}), (4, 3, {'weight': 0.5})])"
            ]
          },
          "execution_count": 21,
          "metadata": {},
          "output_type": "execute_result"
        }
      ],
      "source": [
        "# see them\n",
        "dG.edges.data()"
      ]
    },
    {
      "cell_type": "markdown",
      "metadata": {
        "id": "Rz7x73Lt5DxH"
      },
      "source": [
        "Let me add another attribute conditional on another attribute:"
      ]
    },
    {
      "cell_type": "code",
      "execution_count": null,
      "metadata": {
        "id": "_zHEh0sc5DxH",
        "outputId": "f496bad8-bea1-467e-9084-8838a31859a2"
      },
      "outputs": [
        {
          "data": {
            "text/plain": [
              "{(1, 2): 'grey',\n",
              " (1, 3): 'grey',\n",
              " (3, 2): 'grey',\n",
              " (3, 4): 'grey',\n",
              " (4, 3): 'magenta'}"
            ]
          },
          "execution_count": 22,
          "metadata": {},
          "output_type": "execute_result"
        }
      ],
      "source": [
        "# if\n",
        "{i:'magenta' if v<1 else 'grey' for i,v in nx.get_edge_attributes(dG, \"weight\").items()}"
      ]
    },
    {
      "cell_type": "code",
      "execution_count": null,
      "metadata": {
        "id": "K0FuFfey5DxI"
      },
      "outputs": [],
      "source": [
        "# then\n",
        "colorEdges={i:'magenta' if v<1 else 'grey' for i,v in nx.get_edge_attributes(dG, \"weight\").items()}\n",
        "nx.set_edge_attributes(dG,values=colorEdges,name='color')"
      ]
    },
    {
      "cell_type": "code",
      "execution_count": null,
      "metadata": {
        "id": "J_aV3dQu5DxI",
        "outputId": "10435610-f82b-41f5-bc1a-acfae4c63373"
      },
      "outputs": [
        {
          "data": {
            "text/plain": [
              "OutEdgeDataView([(1, 2, {'weight': 1, 'color': 'grey'}), (1, 3, {'weight': 3, 'color': 'grey'}), (3, 2, {'weight': 5, 'color': 'grey'}), (3, 4, {'weight': 10, 'color': 'grey'}), (4, 3, {'weight': 0.5, 'color': 'magenta'})])"
            ]
          },
          "execution_count": 24,
          "metadata": {},
          "output_type": "execute_result"
        }
      ],
      "source": [
        "# see edges and attributes\n",
        "dG.edges.data()"
      ]
    },
    {
      "cell_type": "markdown",
      "metadata": {
        "id": "j-8hcKTG5DxI"
      },
      "source": [
        "Let's use edge attributes:"
      ]
    },
    {
      "cell_type": "code",
      "execution_count": null,
      "metadata": {
        "id": "N8AU47MK5DxI",
        "outputId": "517ef4d1-c56b-4f65-aa15-278ec0c54b4b"
      },
      "outputs": [
        {
          "data": {
            "image/png": "[encoded data removed]",
            "text/plain": [
              "<Figure size 640x480 with 1 Axes>"
            ]
          },
          "metadata": {},
          "output_type": "display_data"
        }
      ],
      "source": [
        "# use the edge attributes\n",
        "# add labels to edges\n",
        "\n",
        "pos = nx.spring_layout(dG) # position of the nodes\n",
        "\n",
        "nx.draw(dG,\n",
        "        pos, # using \"position\"\n",
        "        with_labels=True,\n",
        "        node_color=nx.get_node_attributes(dG, \"color\").values())\n",
        "\n",
        "# adding labels\n",
        "final_dG=nx.draw_networkx_edge_labels(dG,pos,edge_labels=nx.get_edge_attributes(dG,'weight'))"
      ]
    },
    {
      "cell_type": "markdown",
      "metadata": {
        "id": "3eXhRfoI5DxN"
      },
      "source": [
        "The color of edges:"
      ]
    },
    {
      "cell_type": "code",
      "execution_count": null,
      "metadata": {
        "id": "4mpnieVb5DxN",
        "outputId": "aa879ec6-90d2-4ee7-ab33-d101822b7cfe"
      },
      "outputs": [
        {
          "data": {
            "text/plain": [
              "dict_values(['grey', 'grey', 'grey', 'grey', 'magenta'])"
            ]
          },
          "execution_count": 26,
          "metadata": {},
          "output_type": "execute_result"
        }
      ],
      "source": [
        "nx.get_edge_attributes(dG,'color').values()"
      ]
    },
    {
      "cell_type": "code",
      "execution_count": null,
      "metadata": {
        "id": "snyeByRU5DxN",
        "outputId": "7cba2b3d-727b-471b-ef02-f1e18266400e"
      },
      "outputs": [
        {
          "data": {
            "image/png": "[encoded data removed]",
            "text/plain": [
              "<Figure size 640x480 with 1 Axes>"
            ]
          },
          "metadata": {},
          "output_type": "display_data"
        }
      ],
      "source": [
        "# use the edge attributes\n",
        "# add labels to edges\n",
        "# add color to edges\n",
        "\n",
        "edge_colors=nx.get_edge_attributes(dG,'color').values()\n",
        "colors_for_nodes=nx.get_node_attributes(dG,'color').values()\n",
        "weight_values=nx.get_edge_attributes(dG,'weight')\n",
        "pos = nx.spring_layout(dG)\n",
        "\n",
        "# draw nodes first\n",
        "nx.draw_networkx_nodes(dG,pos,\n",
        "                       node_color=colors_for_nodes)\n",
        "# draw edges\n",
        "nx.draw_networkx_edges(dG, pos,\n",
        "                       edge_color= edge_colors)\n",
        "# draw node labels\n",
        "nx.draw_networkx_labels(dG, pos)\n",
        "\n",
        "final_dG=nx.draw_networkx_edge_labels(dG,pos,\n",
        "                               edge_labels=weight_values)"
      ]
    },
    {
      "cell_type": "markdown",
      "metadata": {
        "id": "GXF_ehEL5DxN"
      },
      "source": [
        "The interactive version needs labels, we don't have them yet:"
      ]
    },
    {
      "cell_type": "code",
      "execution_count": null,
      "metadata": {
        "id": "TsCN-ppa5DxN",
        "outputId": "f42ca91f-3546-4ee0-822a-9983ecf19201"
      },
      "outputs": [
        {
          "data": {
            "text/plain": [
              "dict_keys(['sex', 'color'])"
            ]
          },
          "execution_count": 28,
          "metadata": {},
          "output_type": "execute_result"
        }
      ],
      "source": [
        "dG.nodes.data()[1].keys()"
      ]
    },
    {
      "cell_type": "code",
      "execution_count": null,
      "metadata": {
        "id": "zWFujqln5DxN",
        "outputId": "8078b9d1-86ab-4e40-8b6d-3852b12765c9"
      },
      "outputs": [
        {
          "data": {
            "text/plain": [
              "dict_keys(['weight', 'color'])"
            ]
          },
          "execution_count": 29,
          "metadata": {},
          "output_type": "execute_result"
        }
      ],
      "source": [
        "[i[2].keys() for i in dG.edges.data()][0]"
      ]
    },
    {
      "cell_type": "code",
      "execution_count": null,
      "metadata": {
        "id": "wKi1zO9D5DxO"
      },
      "outputs": [],
      "source": [
        "# id as label\n",
        "labels={i:str(i) for i in dG.nodes()}\n",
        "nx.set_node_attributes(dG, labels, \"label\")\n",
        "\n",
        "# weight as label\n",
        "labels={e:str(v) for e,v in nx.get_edge_attributes(dG, \"weight\").items()}\n",
        "nx.set_edge_attributes(dG, labels, \"label\")"
      ]
    },
    {
      "cell_type": "code",
      "execution_count": null,
      "metadata": {
        "id": "45Efbpgq5DxO",
        "outputId": "b3a77f60-95ce-43ce-fd32-001d3d0665f0"
      },
      "outputs": [
        {
          "data": {
            "text/plain": [
              "OutEdgeDataView([(1, 2, {'weight': 1, 'color': 'grey', 'label': '1'}), (1, 3, {'weight': 3, 'color': 'grey', 'label': '3'}), (3, 2, {'weight': 5, 'color': 'grey', 'label': '5'}), (3, 4, {'weight': 10, 'color': 'grey', 'label': '10'}), (4, 3, {'weight': 0.5, 'color': 'magenta', 'label': '0.5'})])"
            ]
          },
          "execution_count": 31,
          "metadata": {},
          "output_type": "execute_result"
        }
      ],
      "source": [
        "dG.edges.data()"
      ]
    },
    {
      "cell_type": "code",
      "execution_count": null,
      "metadata": {
        "id": "aq-s6XiA5DxO",
        "outputId": "8ada4256-92f6-43bb-ba8e-b500e295b93b"
      },
      "outputs": [
        {
          "data": {
            "text/html": [
              "\n",
              "        <iframe\n",
              "            width=\"500px\"\n",
              "            height=\"500px\"\n",
              "            src=\"dGvis.html\"\n",
              "            frameborder=\"0\"\n",
              "            allowfullscreen\n",
              "            \n",
              "        ></iframe>\n",
              "        "
            ],
            "text/plain": [
              "<IPython.lib.display.IFrame at 0x106a4a510>"
            ]
          },
          "execution_count": 32,
          "metadata": {},
          "output_type": "execute_result"
        }
      ],
      "source": [
        "dGvis = Network('500px', '500px',notebook=True,cdn_resources='remote',directed=True)\n",
        "dGvis.from_nx(dG.copy())\n",
        "dGvis.show('dGvis.html')"
      ]
    },
    {
      "cell_type": "markdown",
      "metadata": {
        "id": "JCMndsBU5DxO"
      },
      "source": [
        "### Exporting"
      ]
    },
    {
      "cell_type": "markdown",
      "metadata": {
        "id": "32ybSAuJ5DxO"
      },
      "source": [
        "Network does not recommend its use for complex visualization. So, several times you may want to export your graph to be visualize in Gephi or something similar:"
      ]
    },
    {
      "cell_type": "code",
      "execution_count": null,
      "metadata": {
        "id": "V8dkubLq5DxO"
      },
      "outputs": [],
      "source": [
        "nx.write_gml(dG, \"dG.gml\")"
      ]
    },
    {
      "cell_type": "markdown",
      "metadata": {
        "id": "_JuPUFd_5DxP"
      },
      "source": [
        "# Case: Elites in Peru"
      ]
    },
    {
      "cell_type": "markdown",
      "metadata": {
        "id": "1ix5vmY-5DxP"
      },
      "source": [
        "The network we are going to build is based on the relationships studied in this paper:\n",
        "<img src=\"https://github.com/SocialAnalytics-StrategicIntelligence/introGraph/blob/main/graphdata/paper.png?raw=1\" width=\"900\">\n"
      ]
    },
    {
      "cell_type": "markdown",
      "metadata": {
        "id": "Kfb-GntP5DxP"
      },
      "source": [
        "In that paper, Professor Figueroa shows this table, where 1 represents that both nodes (families) appear together at least once in a top company board. Notice the last column is an attribute:"
      ]
    },
    {
      "cell_type": "markdown",
      "metadata": {
        "id": "gK-uj7Zr5DxP"
      },
      "source": [
        "<img src=\"https://github.com/SocialAnalytics-StrategicIntelligence/introGraph/blob/main/graphdata/dataRed.png?raw=1\" width=\"900\">"
      ]
    },
    {
      "cell_type": "markdown",
      "metadata": {
        "id": "QvSy8NNZ5DxP"
      },
      "source": [
        "This is an spreadsheet, representing the information above:"
      ]
    },
    {
      "cell_type": "markdown",
      "metadata": {
        "id": "q5DwGMvg5DxP"
      },
      "source": [
        "<img src=\"https://github.com/SocialAnalytics-StrategicIntelligence/introGraph/blob/main/graphdata/dataExcel.png?raw=1\" width=\"900\">"
      ]
    },
    {
      "cell_type": "markdown",
      "metadata": {
        "id": "Rc5oOcZj5DxP"
      },
      "source": [
        "Let's use the data from the spreadsheet to prepare our table:"
      ]
    },
    {
      "cell_type": "code",
      "execution_count": null,
      "metadata": {
        "id": "JBO1ulLt5DxQ"
      },
      "outputs": [],
      "source": [
        "# reading in\n",
        "import pandas as pd\n",
        "import os\n",
        "\n",
        "FigueData = pd.read_excel(os.path.join(\"graphdata\",\"dataFigueroa.xlsx\"),\n",
        "                          index_col=0) #notice!!!!!"
      ]
    },
    {
      "cell_type": "markdown",
      "metadata": {
        "id": "PGG087P25DxQ"
      },
      "source": [
        "We got this:"
      ]
    },
    {
      "cell_type": "code",
      "execution_count": null,
      "metadata": {
        "id": "oh_aWGCk5DxQ"
      },
      "outputs": [],
      "source": [
        "FigueData.head()"
      ]
    },
    {
      "cell_type": "markdown",
      "metadata": {
        "id": "UOs_8orL5DxQ"
      },
      "source": [
        "As intended, the family appears as the row index (not the first column of data). The family is also the column names:"
      ]
    },
    {
      "cell_type": "code",
      "execution_count": null,
      "metadata": {
        "id": "jdIab1sf5DxQ"
      },
      "outputs": [],
      "source": [
        "FigueData.columns"
      ]
    },
    {
      "cell_type": "markdown",
      "metadata": {
        "id": "cbJd8e5o5DxQ"
      },
      "source": [
        "The **adjacency matrix** does not need the _multinacional_ attribute column, then:"
      ]
    },
    {
      "cell_type": "code",
      "execution_count": null,
      "metadata": {
        "id": "IigE0dX65DxQ"
      },
      "outputs": [],
      "source": [
        "varsToDrop=['Multinacional']\n",
        "adjacency=FigueData.drop(varsToDrop,axis=1)\n",
        "\n",
        "#result\n",
        "adjacency"
      ]
    },
    {
      "cell_type": "markdown",
      "metadata": {
        "id": "ezh-BHzu5DxQ"
      },
      "source": [
        "It is easy to turn the adjacency matrix into a graph:"
      ]
    },
    {
      "cell_type": "code",
      "execution_count": null,
      "metadata": {
        "id": "FSrHVTaF5DxR"
      },
      "outputs": [],
      "source": [
        "EliteNet = nx.from_pandas_adjacency(adjacency)"
      ]
    },
    {
      "cell_type": "markdown",
      "metadata": {
        "id": "Zf3Yjk4x5DxR"
      },
      "source": [
        "Take a look at **EliteNet**:"
      ]
    },
    {
      "cell_type": "code",
      "execution_count": null,
      "metadata": {
        "id": "RLQVB_iR5DxR"
      },
      "outputs": [],
      "source": [
        "# nodes:\n",
        "len(EliteNet)"
      ]
    },
    {
      "cell_type": "code",
      "execution_count": null,
      "metadata": {
        "id": "1cuoCmlg5DxR"
      },
      "outputs": [],
      "source": [
        "# edges:\n",
        "EliteNet.size()"
      ]
    },
    {
      "cell_type": "code",
      "execution_count": null,
      "metadata": {
        "id": "5kXf2xkA5DxR"
      },
      "outputs": [],
      "source": [
        "# plot\n",
        "nx.draw_random(EliteNet,\n",
        "                node_color='yellow',\n",
        "                edge_color='lightblue',\n",
        "                with_labels=True,\n",
        "                font_size=8)"
      ]
    },
    {
      "cell_type": "markdown",
      "metadata": {
        "id": "UyasNtqO5DxR"
      },
      "source": [
        "The adjacency include the self-relationships, we should take those away:"
      ]
    },
    {
      "cell_type": "code",
      "execution_count": null,
      "metadata": {
        "id": "mS-tdrPB5DxS"
      },
      "outputs": [],
      "source": [
        "EliteNet.remove_edges_from(nx.selfloop_edges(EliteNet))"
      ]
    },
    {
      "cell_type": "code",
      "execution_count": null,
      "metadata": {
        "id": "zm3PNZaY5DxS"
      },
      "outputs": [],
      "source": [
        "# re plot\n",
        "nx.draw_random(EliteNet,\n",
        "                node_color='yellow',\n",
        "                edge_color='lightblue',\n",
        "                with_labels=True,\n",
        "                font_size=8)"
      ]
    },
    {
      "cell_type": "markdown",
      "metadata": {
        "id": "R3oh1GBV5DxS"
      },
      "source": [
        "Let's add the attributes to the nodes:"
      ]
    },
    {
      "cell_type": "code",
      "execution_count": null,
      "metadata": {
        "id": "pT-4CDcS5DxS"
      },
      "outputs": [],
      "source": [
        "FigueData['Multinacional'].head()"
      ]
    },
    {
      "cell_type": "markdown",
      "metadata": {
        "id": "HgVAmspT5DxS"
      },
      "source": [
        "Currently:"
      ]
    },
    {
      "cell_type": "code",
      "execution_count": null,
      "metadata": {
        "id": "cvGeOVd65DxS"
      },
      "outputs": [],
      "source": [
        "# no attribute:\n",
        "EliteNet.nodes.data()"
      ]
    },
    {
      "cell_type": "markdown",
      "metadata": {
        "id": "hSFIrMw45DxT"
      },
      "source": [
        "Let me prepare a dictionary:"
      ]
    },
    {
      "cell_type": "code",
      "execution_count": null,
      "metadata": {
        "id": "0Qbeh9CG5DxT"
      },
      "outputs": [],
      "source": [
        "dict(zip(FigueData.index,FigueData['Multinacional']))"
      ]
    },
    {
      "cell_type": "markdown",
      "metadata": {
        "id": "lVnys48X5DxT"
      },
      "source": [
        "Then, I can use that to add an attribute to the node:"
      ]
    },
    {
      "cell_type": "code",
      "execution_count": null,
      "metadata": {
        "id": "0mYzVKed5DxT"
      },
      "outputs": [],
      "source": [
        "attributeToAdd=dict(zip(FigueData.index,FigueData['Multinacional']))\n",
        "nx.set_node_attributes(EliteNet, attributeToAdd,'multi')"
      ]
    },
    {
      "cell_type": "markdown",
      "metadata": {
        "id": "lqH0mc-y5DxU"
      },
      "source": [
        "Setting color of node:"
      ]
    },
    {
      "cell_type": "code",
      "execution_count": null,
      "metadata": {
        "id": "zD6MzGDF5DxU"
      },
      "outputs": [],
      "source": [
        "colors={e:'red' if v==1 else 'green' for e,v in nx.get_node_attributes(EliteNet,\"multi\").items()}\n",
        "nx.set_node_attributes(EliteNet, colors, \"color\")\n",
        "\n",
        "# updated nodes\n",
        "EliteNet.nodes.data()"
      ]
    },
    {
      "cell_type": "code",
      "execution_count": null,
      "metadata": {
        "id": "z6VSmIGT5DxU"
      },
      "outputs": [],
      "source": [
        "# using node attributes\n",
        "\n",
        "nx.draw_random(EliteNet)"
      ]
    },
    {
      "cell_type": "markdown",
      "metadata": {
        "id": "qXBO_uwd5DxU"
      },
      "source": [
        "### Exercise 1\n",
        "<div class=\"alert-success\">\n",
        "\n",
        "1. Plot a colored version of the nodes based on attributes of the previous plot.\n",
        "2. Plot using Pyvis.\n",
        "3. Export the network: **nx.write_gml(EliteNet, os.path.join(\"graphdata\",\"EliteNet.gml\"))**\n",
        "4. Open the exported network in R and Gephi. Plot the graphs.    \n",
        "</div>"
      ]
    },
    {
      "cell_type": "markdown",
      "metadata": {
        "id": "axT_8Kko5DxU"
      },
      "source": [
        "# Case: Trade among countries"
      ]
    },
    {
      "cell_type": "markdown",
      "metadata": {
        "id": "0Jf4D5xJ5DxV"
      },
      "source": [
        "Let me use some information about trade among countries from the [World Bank](https://wits.worldbank.org/gptad/library.aspx):"
      ]
    },
    {
      "cell_type": "code",
      "execution_count": null,
      "metadata": {
        "id": "aqgiV0iV5DxV"
      },
      "outputs": [],
      "source": [
        "url = \"https://wits.worldbank.org/gptad/library.aspx\"\n",
        "from IPython.display import IFrame\n",
        "IFrame(url, 900,500)"
      ]
    },
    {
      "cell_type": "markdown",
      "metadata": {
        "id": "HpuplUrj5DxV"
      },
      "source": [
        "I have previously pre processed the data. Let me open the file with _inforce_ agreements:"
      ]
    },
    {
      "cell_type": "code",
      "execution_count": null,
      "metadata": {
        "id": "lMWjL-Op5DxV"
      },
      "outputs": [],
      "source": [
        "tradeDF=pd.read_pickle(os.path.join(\"graphdata\",\"tradeData_forGraph.pkl\"))\n",
        "tradeDF.info()"
      ]
    },
    {
      "cell_type": "markdown",
      "metadata": {
        "id": "zHs2lAb05DxV"
      },
      "source": [
        "The _Common Name_ is the name of the agreement. All countris involved are in a list (_Memembership_list_):"
      ]
    },
    {
      "cell_type": "code",
      "execution_count": null,
      "metadata": {
        "id": "dFrPoal05DxW"
      },
      "outputs": [],
      "source": [
        "tradeDF.head()"
      ]
    },
    {
      "cell_type": "markdown",
      "metadata": {
        "id": "SFmtNkkh5DxW"
      },
      "source": [
        "Let me check the type of agreements we have in the data."
      ]
    },
    {
      "cell_type": "code",
      "execution_count": null,
      "metadata": {
        "id": "OLoiXRke5DxW"
      },
      "outputs": [],
      "source": [
        "tradeDF.Type.value_counts()"
      ]
    },
    {
      "cell_type": "markdown",
      "metadata": {
        "id": "mhXH7c5m5DxW"
      },
      "source": [
        "Let me choose the 'Framework Agreement':"
      ]
    },
    {
      "cell_type": "code",
      "execution_count": null,
      "metadata": {
        "id": "LHM5rrgq5DxW"
      },
      "outputs": [],
      "source": [
        "tradeDF.loc[tradeDF.Type=='Framework Agreement',:]"
      ]
    },
    {
      "cell_type": "markdown",
      "metadata": {
        "id": "6kwj3dp35DxX"
      },
      "source": [
        "I can make a network of countries. Let me create \"edges\" using **Membership_list**. First, let me show you how **combinations** work:"
      ]
    },
    {
      "cell_type": "code",
      "execution_count": null,
      "metadata": {
        "id": "xKu19VjJ5DxX"
      },
      "outputs": [],
      "source": [
        "from itertools import combinations\n",
        "\n",
        "[x for x in combinations(['chile','ecuador','peru'],2)]"
      ]
    },
    {
      "cell_type": "code",
      "execution_count": null,
      "metadata": {
        "id": "Xi9TAtOX5DxX"
      },
      "outputs": [],
      "source": [
        "[x for x in combinations(['peru','ecuador','chile'],2)]"
      ]
    },
    {
      "cell_type": "code",
      "execution_count": null,
      "metadata": {
        "id": "RgJYqh1p5DxX"
      },
      "outputs": [],
      "source": [
        "[x for x in combinations(sorted(['peru','ecuador','chile']),2)]"
      ]
    },
    {
      "cell_type": "code",
      "execution_count": null,
      "metadata": {
        "id": "A0aVNkgh5DxX"
      },
      "outputs": [],
      "source": [
        "# all the pairs\n",
        "list(combinations(sorted(tradeDF.loc[162,'Membership_list']), 2))"
      ]
    },
    {
      "cell_type": "markdown",
      "metadata": {
        "id": "WUEgoFcO5DxX"
      },
      "source": [
        "All the pairs above represent nodes and edges, then:"
      ]
    },
    {
      "cell_type": "code",
      "execution_count": null,
      "metadata": {
        "id": "s0LKHqqG5DxY"
      },
      "outputs": [],
      "source": [
        "import networkx as nx\n",
        "\n",
        "Framework_Agreement_Net = nx.Graph(combinations(sorted(tradeDF.loc[162,'Membership_list']), 2))"
      ]
    },
    {
      "cell_type": "code",
      "execution_count": null,
      "metadata": {
        "id": "aV9AoPjy5DxY"
      },
      "outputs": [],
      "source": [
        "# see edges\n",
        "Framework_Agreement_Net.edges()"
      ]
    },
    {
      "cell_type": "code",
      "execution_count": null,
      "metadata": {
        "id": "UNwLHswk5DxY"
      },
      "outputs": [],
      "source": [
        "#draw the graph\n",
        "nx.draw(Framework_Agreement_Net, with_labels=True)"
      ]
    },
    {
      "cell_type": "markdown",
      "metadata": {
        "id": "TgnNSZ1D5DxY"
      },
      "source": [
        "Let me explore the other types:"
      ]
    },
    {
      "cell_type": "code",
      "execution_count": null,
      "metadata": {
        "id": "d5x7h8e85DxY"
      },
      "outputs": [],
      "source": [
        "tradeDF.loc[tradeDF.Type=='Customs Union Accession Agreement',:]"
      ]
    },
    {
      "cell_type": "code",
      "execution_count": null,
      "metadata": {
        "id": "Dv7yfvFU5DxY"
      },
      "outputs": [],
      "source": [
        "Accession_Agreement_Net_1973 = nx.Graph(combinations(sorted(tradeDF.loc[72,'Membership_list']), 2))\n",
        "nx.draw(Accession_Agreement_Net_1973, with_labels=True)"
      ]
    },
    {
      "cell_type": "code",
      "execution_count": null,
      "metadata": {
        "id": "ADKLjzyy5DxZ"
      },
      "outputs": [],
      "source": [
        "Accession_Agreement_Net_2007 = nx.Graph(combinations(sorted(tradeDF.loc[71,'Membership_list']), 2))\n",
        "nx.draw(Accession_Agreement_Net_2007, with_labels=True)"
      ]
    },
    {
      "cell_type": "markdown",
      "metadata": {
        "id": "zfxxL8a75DxZ"
      },
      "source": [
        "Let´s see this other type, but only after the year 2000:"
      ]
    },
    {
      "cell_type": "code",
      "execution_count": null,
      "metadata": {
        "id": "4dty7Z505DxZ"
      },
      "outputs": [],
      "source": [
        "tradeDF[(tradeDF.Type=='Regional/Plurilateral Free Trade Agreement') & (tradeDF.year_inforce_ok>2000)]"
      ]
    },
    {
      "cell_type": "markdown",
      "metadata": {
        "id": "XeQjlQhR5DxZ"
      },
      "source": [
        "Let´s keep the countries per row:"
      ]
    },
    {
      "cell_type": "code",
      "execution_count": null,
      "metadata": {
        "id": "fW7PVPLV5DxZ"
      },
      "outputs": [],
      "source": [
        "RFTA_countryLists=tradeDF[(tradeDF.Type=='Regional/Plurilateral Free Trade Agreement') & (tradeDF.year_inforce_ok>2000)]['Membership_list']\n",
        "RFTA_countryLists"
      ]
    },
    {
      "cell_type": "code",
      "execution_count": null,
      "metadata": {
        "id": "hyMsvQvn5DxZ"
      },
      "outputs": [],
      "source": [
        "listOfTuples=[]\n",
        "for listOfMembers in RFTA_countryLists:\n",
        "    for country1, country2 in combinations(sorted(listOfMembers),2):\n",
        "        listOfTuples.append((country1, country2))\n",
        "\n",
        "# see\n",
        "listOfTuples"
      ]
    },
    {
      "cell_type": "markdown",
      "metadata": {
        "id": "NkefEfLO5Dxa"
      },
      "source": [
        "Let's count each time a tuple happens:"
      ]
    },
    {
      "cell_type": "code",
      "execution_count": null,
      "metadata": {
        "id": "T7CQlzVx5Dxa"
      },
      "outputs": [],
      "source": [
        "pd.Series(listOfTuples).value_counts().reset_index()"
      ]
    },
    {
      "cell_type": "markdown",
      "metadata": {
        "id": "dLwI7sYx5Dxa"
      },
      "source": [
        "We can prepare a dataframe:"
      ]
    },
    {
      "cell_type": "code",
      "execution_count": null,
      "metadata": {
        "id": "_ILyxoXM5Dxa"
      },
      "outputs": [],
      "source": [
        "newNames={'index':'countryTuple',\t'count':'weight'}\n",
        "tuplesAndWeights=pd.DataFrame(pd.Series(listOfTuples).value_counts()).reset_index(drop=False).rename(columns=newNames)\n",
        "tuplesAndWeights"
      ]
    },
    {
      "cell_type": "markdown",
      "metadata": {
        "id": "QK93k-XB5Dxa"
      },
      "source": [
        "Let's create separate columns:"
      ]
    },
    {
      "cell_type": "code",
      "execution_count": null,
      "metadata": {
        "id": "IW3rv8gw5Dxa"
      },
      "outputs": [],
      "source": [
        "tuplesAndWeights[['country1','country2']]=tuplesAndWeights['countryTuple'].to_list()\n",
        "tuplesAndWeights"
      ]
    },
    {
      "cell_type": "code",
      "execution_count": null,
      "metadata": {
        "id": "jpldV8OS5Dxb"
      },
      "outputs": [],
      "source": [
        "RFTA_net=nx.from_pandas_edgelist(tuplesAndWeights, source='country1',target='country2',edge_attr=[\"weight\"])"
      ]
    },
    {
      "cell_type": "code",
      "execution_count": null,
      "metadata": {
        "id": "qT9aAUP05Dxb"
      },
      "outputs": [],
      "source": [
        "RFTA_net.edges.data()"
      ]
    },
    {
      "cell_type": "code",
      "execution_count": null,
      "metadata": {
        "id": "UelEnmfX5Dxb"
      },
      "outputs": [],
      "source": [
        "nx.draw(RFTA_net)"
      ]
    },
    {
      "cell_type": "code",
      "execution_count": null,
      "metadata": {
        "id": "T7NIAn5o5Dxb"
      },
      "outputs": [],
      "source": [
        "len(RFTA_net.nodes()),len(RFTA_net.edges())"
      ]
    },
    {
      "cell_type": "markdown",
      "metadata": {
        "id": "wRKGFCu15Dxb"
      },
      "source": [
        "We are not supposed to have isolates:"
      ]
    },
    {
      "cell_type": "code",
      "execution_count": null,
      "metadata": {
        "id": "2mmuLvXU5Dxb"
      },
      "outputs": [],
      "source": [
        "list(nx.isolates(RFTA_net))"
      ]
    },
    {
      "cell_type": "markdown",
      "metadata": {
        "id": "BsMehE295Dxb"
      },
      "source": [
        "There should not be self loops:"
      ]
    },
    {
      "cell_type": "code",
      "execution_count": null,
      "metadata": {
        "id": "I7ZapX1j5Dxb"
      },
      "outputs": [],
      "source": [
        "nx.number_of_selfloops(RFTA_net)\n",
        "# RFTA_net.remove_edges_from(nx.selfloop_edges(RFTA_net))"
      ]
    },
    {
      "cell_type": "code",
      "execution_count": null,
      "metadata": {
        "id": "pe_BciF05Dxb"
      },
      "outputs": [],
      "source": [
        "# which are they?\n",
        "nx.number_connected_components(RFTA_net)"
      ]
    },
    {
      "cell_type": "markdown",
      "metadata": {
        "id": "dxBuLy5K5Dxc"
      },
      "source": [
        "<div class=\"alert alert-danger\">\n",
        "  <strong>CHALLENGE!</strong> <br>\n",
        "* Create a network creating all the edges from the whole dataset.<br>\n",
        "* Plot the network in R, Gephi and Python. Is there any issue?    \n",
        "</div>"
      ]
    },
    {
      "cell_type": "code",
      "execution_count": null,
      "metadata": {
        "id": "MuYQcYWw5Dxc"
      },
      "outputs": [],
      "source": []
    }
  ],
  "metadata": {
    "hide_input": false,
    "kernelspec": {
      "display_name": "Python 3 (ipykernel)",
      "language": "python",
      "name": "python3"
    },
    "language_info": {
      "codemirror_mode": {
        "name": "ipython",
        "version": 3
      },
      "file_extension": ".py",
      "mimetype": "text/x-python",
      "name": "python",
      "nbconvert_exporter": "python",
      "pygments_lexer": "ipython3",
      "version": "3.11.5"
    },
    "colab": {
      "provenance": []
    }
  },
  "nbformat": 4,
  "nbformat_minor": 0
}